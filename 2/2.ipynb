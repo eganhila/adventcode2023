{
 "cells": [
  {
   "cell_type": "code",
   "execution_count": 10,
   "metadata": {},
   "outputs": [],
   "source": [
    "import numpy as np"
   ]
  },
  {
   "cell_type": "code",
   "execution_count": 49,
   "metadata": {},
   "outputs": [],
   "source": [
    "with open('input.text') as f:\n",
    "    text = f.readlines()"
   ]
  },
  {
   "cell_type": "code",
   "execution_count": 45,
   "metadata": {},
   "outputs": [],
   "source": [
    "Nmax = {}\n",
    "Nmax['red'] = 12\n",
    "Nmax['green'] = 13\n",
    "Nmax['blue'] = 14"
   ]
  },
  {
   "cell_type": "code",
   "execution_count": 52,
   "metadata": {},
   "outputs": [
    {
     "data": {
      "text/plain": [
       "2727"
      ]
     },
     "execution_count": 52,
     "metadata": {},
     "output_type": "execute_result"
    }
   ],
   "source": [
    "ok_ids = []\n",
    "for line in text:\n",
    "    line = line.strip('\\n')\n",
    "    game_ok = True\n",
    "    game_id, all_games = line.split(\":\")\n",
    "    games = all_games.split(\";\")\n",
    "    \n",
    "    for gameround in games:\n",
    "        for pick in gameround.split(','):\n",
    "            for color in Nmax.keys():\n",
    "                if color in pick:\n",
    "                    Nc = int(pick.strip(color))\n",
    "                    if Nc > Nmax[color]:\n",
    "                        game_ok = False\n",
    "                        break\n",
    "                        \n",
    "                    \n",
    "    \n",
    "    if game_ok:\n",
    "        ok_ids.append(int(game_id[5:]))\n",
    "        \n",
    "np.sum(ok_ids)"
   ]
  },
  {
   "cell_type": "code",
   "execution_count": 54,
   "metadata": {},
   "outputs": [
    {
     "data": {
      "text/plain": [
       "56580.0"
      ]
     },
     "execution_count": 54,
     "metadata": {},
     "output_type": "execute_result"
    }
   ],
   "source": [
    "Nballs = np.zeros((100,3))\n",
    "\n",
    "for i_g, line in enumerate(text):\n",
    "    \n",
    "    line = line.strip('\\n')\n",
    "    gamerounds = line.split(\":\")[1].split(\";\")\n",
    "    \n",
    "    for gameround in gamerounds:\n",
    "        for pick in gameround.split(','):\n",
    "            for i_c,color in enumerate(Nmax.keys()):\n",
    "                if color in pick:\n",
    "                    Nc = int(pick.strip(color))\n",
    "                    \n",
    "                    Nballs[i_g, i_c] = max(Nc, Nballs[i_g, i_c])\n",
    "                    \n",
    "                    \n",
    "powers = Nballs[:,0]*Nballs[:,1]*Nballs[:,2]\n",
    "np.sum(powers)"
   ]
  },
  {
   "cell_type": "code",
   "execution_count": null,
   "metadata": {},
   "outputs": [],
   "source": []
  }
 ],
 "metadata": {
  "kernelspec": {
   "display_name": "Python [conda env:datasci] *",
   "language": "python",
   "name": "conda-env-datasci-py"
  },
  "language_info": {
   "codemirror_mode": {
    "name": "ipython",
    "version": 3
   },
   "file_extension": ".py",
   "mimetype": "text/x-python",
   "name": "python",
   "nbconvert_exporter": "python",
   "pygments_lexer": "ipython3",
   "version": "3.8.5"
  }
 },
 "nbformat": 4,
 "nbformat_minor": 4
}
