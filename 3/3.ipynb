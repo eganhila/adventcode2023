{
 "cells": [
  {
   "cell_type": "code",
   "execution_count": 1,
   "metadata": {},
   "outputs": [],
   "source": [
    "import numpy as np"
   ]
  },
  {
   "cell_type": "code",
   "execution_count": 22,
   "metadata": {},
   "outputs": [],
   "source": [
    "with open('input.txt') as f:\n",
    "    text = f.readlines()"
   ]
  },
  {
   "cell_type": "code",
   "execution_count": 23,
   "metadata": {},
   "outputs": [],
   "source": [
    "# Pad the text w/ nulls\n",
    "text = [''.join(['.' for i in range(len(text[0]))])] + text +  [''.join(['.' for i in range(len(text[0]))])]\n",
    "text = ['.'+t.replace('\\n',\"\")+'.' for t in text]"
   ]
  },
  {
   "cell_type": "code",
   "execution_count": 32,
   "metadata": {},
   "outputs": [],
   "source": [
    "num_locs = []\n",
    "num_lens = []\n",
    "nums = []\n",
    "\n",
    "cur_num = \"\"\n",
    "for i, line in enumerate(text):\n",
    "    for j, char in enumerate(line):\n",
    "        \n",
    "        cur_num_len = len(cur_num)\n",
    "        \n",
    "        # first character of new number\n",
    "        if char.isdigit() and cur_num_len == 0:\n",
    "            cur_num += char\n",
    "            num_locs.append([i,j])\n",
    "            \n",
    "        # continue existing number    \n",
    "        elif char.isdigit() and cur_num_len >0:\n",
    "            cur_num += char\n",
    "            \n",
    "        elif not char.isdigit() and cur_num_len>0:\n",
    "            num_lens.append(cur_num_len)\n",
    "            nums.append(int(cur_num))\n",
    "            cur_num = \"\"\n",
    "            \n",
    "nums = np.array(nums)           "
   ]
  },
  {
   "cell_type": "code",
   "execution_count": 46,
   "metadata": {},
   "outputs": [],
   "source": [
    "def get_surrounding_idxs(loc, leng):\n",
    "    idxs = []\n",
    "    for i in range(leng):\n",
    "        idxs.append(loc-np.array([1,0])+np.array([0,i]))\n",
    "        idxs.append(loc+np.array([1,0])+np.array([0,i]))\n",
    "        \n",
    "    idxs += [loc-np.array([1,1]), loc-np.array([0,1]), loc-np.array([-1,1])]\n",
    "    idxs += [loc+np.array([1,leng]), loc+np.array([0,leng]), loc+np.array([-1,leng])]\n",
    "    \n",
    "    return idxs"
   ]
  },
  {
   "cell_type": "code",
   "execution_count": 47,
   "metadata": {},
   "outputs": [],
   "source": [
    "good_num_idxs = []\n",
    "for i in range(len(num_locs)):\n",
    "    \n",
    "    idxs = get_surrounding_idxs(np.array(num_locs[i]), num_lens[i])\n",
    "    \n",
    "    num_good = False\n",
    "    for idx in idxs:\n",
    "        char = text[idx[0]][idx[1]]\n",
    "        if char != '.' and not char.isdigit():\n",
    "            num_good = True\n",
    "            break\n",
    "            \n",
    "    if num_good:\n",
    "        good_num_idxs.append(i)"
   ]
  },
  {
   "cell_type": "code",
   "execution_count": 48,
   "metadata": {},
   "outputs": [
    {
     "data": {
      "text/plain": [
       "533784"
      ]
     },
     "execution_count": 48,
     "metadata": {},
     "output_type": "execute_result"
    }
   ],
   "source": [
    "np.sum(nums[good_num_idxs])"
   ]
  },
  {
   "cell_type": "code",
   "execution_count": 49,
   "metadata": {},
   "outputs": [],
   "source": [
    "# find the *s\n",
    "star_locs = []\n",
    "for i, line in enumerate(text):\n",
    "    for j, char in enumerate(line):\n",
    "        if char == \"*\":\n",
    "            star_locs.append([i,j])"
   ]
  },
  {
   "cell_type": "code",
   "execution_count": null,
   "metadata": {},
   "outputs": [],
   "source": []
  },
  {
   "cell_type": "code",
   "execution_count": 54,
   "metadata": {},
   "outputs": [],
   "source": [
    "#This is slow and dumb, but I got it on the first try soooo w.e\n",
    "ratios = []\n",
    "for i in range(len(star_locs)):\n",
    "    star_loc = np.array(star_locs[i])\n",
    "    adjacent_nums = []\n",
    "    \n",
    "    for j in range(len(num_locs)):\n",
    "        \n",
    "        if np.sum(star_loc-num_locs[j]) > 50: continue\n",
    "        \n",
    "        adj_idxs = get_surrounding_idxs(np.array(num_locs[j]), num_lens[j])\n",
    "        \n",
    "        for idx in adj_idxs:\n",
    "            if np.all(idx == star_loc):\n",
    "                adjacent_nums.append(nums[j])\n",
    "                \n",
    "    if len(adjacent_nums) >=2:\n",
    "        ratios.append(np.prod(adjacent_nums))"
   ]
  },
  {
   "cell_type": "code",
   "execution_count": 56,
   "metadata": {},
   "outputs": [
    {
     "data": {
      "text/plain": [
       "78826761"
      ]
     },
     "execution_count": 56,
     "metadata": {},
     "output_type": "execute_result"
    }
   ],
   "source": [
    "np.sum(ratios)"
   ]
  },
  {
   "cell_type": "code",
   "execution_count": null,
   "metadata": {},
   "outputs": [],
   "source": []
  }
 ],
 "metadata": {
  "kernelspec": {
   "display_name": "Python [conda env:datasci] *",
   "language": "python",
   "name": "conda-env-datasci-py"
  },
  "language_info": {
   "codemirror_mode": {
    "name": "ipython",
    "version": 3
   },
   "file_extension": ".py",
   "mimetype": "text/x-python",
   "name": "python",
   "nbconvert_exporter": "python",
   "pygments_lexer": "ipython3",
   "version": "3.8.5"
  }
 },
 "nbformat": 4,
 "nbformat_minor": 4
}
